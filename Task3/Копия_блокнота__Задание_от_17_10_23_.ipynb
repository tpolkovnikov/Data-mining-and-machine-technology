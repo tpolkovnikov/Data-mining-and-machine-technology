{
  "nbformat": 4,
  "nbformat_minor": 0,
  "metadata": {
    "colab": {
      "provenance": []
    },
    "kernelspec": {
      "name": "python3",
      "display_name": "Python 3"
    },
    "language_info": {
      "name": "python"
    }
  },
  "cells": [
    {
      "cell_type": "markdown",
      "source": [
        "# Практика 17.10.23\n",
        "\n",
        "1. Сгенерировать, используя модуль псевдослучайных чисел `random`, или ввести с клавиатуры список целых чисел. Вывести в консоль, затем перевернуть его и снова вывести в консоль.\n",
        "\n",
        "2. Сгенерировать, используя модуль псевдослучайных чисел `random`, или ввести с клавиатуры два списка целых чисел. Вывести их в консоль. Создать новый пустой список. Добавить в него все четные (по индексу) элементы первого списка и все нечетные (по индексу) элементы второго списка. Вывести третий список в консоль.\n",
        "\n",
        "3. Сгенерировать, используя модуль псевдослучайных чисел `random`, или ввести с клавиатуры список произвольных элементов (целые числа, числа с плавающей точкой, строки). Вывести в консоль. Убрать из него все дубликаты через приведение типов. Вывести в консоль.\n",
        "\n",
        "4. Сгенерировать, используя модуль псевдослучайных чисел `random`, или ввести с клавиатуры словарь, где ключом является строка, значением — целое число или число с плавающей точкой. Вывести в консоль. Для всех уникальных значений создать кортеж, где первым элементом будет значение, вторым — список связанных с ним ключей. Собрать эти кортежи в список, вывести его в консоль.\n",
        "\n",
        "5. Сгенерировать, используя модуль псевдослучайных чисел `random`, или ввести с клавиатуры два словаря, где ключом является строка, значением — целое число или число с плавающей точкой. Вывести в консоль. Найти пересечения множеств значений словарей. Создать новый словарь, содержащий только те пары ключ-значение, значения из которых входит в пересечение. Вывести в консоль.\n",
        "\n",
        "[Ссылка на документацию функции `random`](https://docs.python.org/3/library/random.html)\n",
        "\n",
        "[Built-in Types](https://docs.python.org/3/library/stdtypes.html?highlight=tuple#tuple)"
      ],
      "metadata": {
        "id": "64JPlHixec69"
      }
    },
    {
      "cell_type": "markdown",
      "source": [
        "Полковников Тихон"
      ],
      "metadata": {
        "id": "Y-jP_9axgxyX"
      }
    },
    {
      "cell_type": "markdown",
      "source": [
        "##Задание 1"
      ],
      "metadata": {
        "id": "HAVFiCLPo28O"
      }
    },
    {
      "cell_type": "code",
      "source": [
        "import random\n",
        "\n",
        "def generate_list(n):\n",
        "  return[random.randint(0, 10) for _ in range(10)]\n",
        "\n",
        "list1 = generate_list(10)\n",
        "print(list1)\n",
        "print(list(reversed(list1)))"
      ],
      "metadata": {
        "colab": {
          "base_uri": "https://localhost:8080/"
        },
        "id": "68pFsIvRPdvk",
        "outputId": "e2843a41-a3ab-4222-a30e-802406f2cc75"
      },
      "execution_count": null,
      "outputs": [
        {
          "output_type": "stream",
          "name": "stdout",
          "text": [
            "[8, 3, 2, 10, 4, 10, 8, 9, 7, 2]\n",
            "[2, 7, 9, 8, 10, 4, 10, 2, 3, 8]\n"
          ]
        }
      ]
    },
    {
      "cell_type": "markdown",
      "source": [
        "## Задание 2"
      ],
      "metadata": {
        "id": "a1gbYjASfIqJ"
      }
    },
    {
      "cell_type": "code",
      "source": [
        "list1 = generate_list(10)\n",
        "list2 = generate_list(10)\n",
        "list3 = []\n",
        "\n",
        "print(\"first list: \", list1)\n",
        "print(\"second list: \", list2)\n",
        "\n",
        "for i in range(0, len(list1), 2):\n",
        "  list3.append(list1[i])\n",
        "for i in range(1, len(list2), 2):\n",
        "  list3.append(list2[i])\n",
        "\n",
        "print(\"third list: \", list3)"
      ],
      "metadata": {
        "id": "3DFZiLwJfMfC",
        "colab": {
          "base_uri": "https://localhost:8080/"
        },
        "outputId": "47f00e84-e40c-4759-a68c-7ec7ff401595"
      },
      "execution_count": null,
      "outputs": [
        {
          "output_type": "stream",
          "name": "stdout",
          "text": [
            "first list:  [3, 3, 1, 5, 2, 2, 5, 3, 3, 6]\n",
            "second list:  [7, 5, 8, 9, 10, 7, 5, 6, 0, 4]\n",
            "third list:  []\n"
          ]
        }
      ]
    },
    {
      "cell_type": "markdown",
      "source": [
        "## Задание 3"
      ],
      "metadata": {
        "id": "ZITkT8YUfM8t"
      }
    },
    {
      "cell_type": "code",
      "source": [
        "def random_word(word_size):\n",
        "  word = \"\"\n",
        "  for i in range(word_size):\n",
        "    word += chr(random.randint(97,101))\n",
        "  return word\n",
        "\n",
        "list1 = []\n",
        "for _ in range(10):\n",
        "    list1.append(random.choice([random.randint(1, 5), round(random.random() * random.randint(1,5), 2), random_word(random.randint(1,5))]))\n",
        "print(list1)\n",
        "unique_list = set(list1)\n",
        "print(list(unique_list))\n"
      ],
      "metadata": {
        "id": "FL_u4MSlfS1w",
        "colab": {
          "base_uri": "https://localhost:8080/"
        },
        "outputId": "6f8c5cc9-331e-4423-e385-ef8601a58c83"
      },
      "execution_count": null,
      "outputs": [
        {
          "output_type": "stream",
          "name": "stdout",
          "text": [
            "[3.26, 5, 4, 4, 'ad', 0.13, 5, 2.67, 0.22, 4]\n",
            "[0.13, 0.22, 2.67, 3.26, 4, 5, 'ad']\n"
          ]
        }
      ]
    },
    {
      "cell_type": "markdown",
      "source": [
        "## Задание 4"
      ],
      "metadata": {
        "id": "sqvNf2a6fTdY"
      }
    },
    {
      "cell_type": "code",
      "source": [
        "import random\n",
        "\n",
        "dict1 = {}\n",
        "for i in range(5):\n",
        "  dict1[random_word(3)] = random.randint(0, 5)\n",
        "\n",
        "print(dict1)\n",
        "\n",
        "unique_values = {}\n",
        "for key, value in dict1.items():\n",
        "  if value not in unique_values:\n",
        "    unique_values[value] = [key]\n",
        "  else:\n",
        "    unique_values[value].append(key)\n",
        "\n",
        "result_list = [(value, keys) for value, keys in unique_values.items()]\n",
        "print(result_list)"
      ],
      "metadata": {
        "id": "3M4BCixjfXoq",
        "colab": {
          "base_uri": "https://localhost:8080/"
        },
        "outputId": "d4331062-dac3-4803-d270-41d09e7019f2"
      },
      "execution_count": 14,
      "outputs": [
        {
          "output_type": "stream",
          "name": "stdout",
          "text": [
            "{'ace': 0, 'dab': 1, 'ece': 5, 'ede': 3, 'eed': 3}\n",
            "[(0, ['ace']), (1, ['dab']), (5, ['ece']), (3, ['ede', 'eed'])]\n"
          ]
        }
      ]
    },
    {
      "cell_type": "markdown",
      "source": [
        "## Задание 5"
      ],
      "metadata": {
        "id": "3V5mJOBQfYHe"
      }
    },
    {
      "cell_type": "code",
      "source": [
        "dict1 = {}\n",
        "for i in range(5):\n",
        "  dict1[random_word(3)] = random.choice([round(random.random() * random.randint(1,5), 2), random.randint(0, 5)])\n",
        "\n",
        "dict2 = {}\n",
        "for i in range(5):\n",
        "  dict2[random_word(3)] = random.choice([round(random.random() * random.randint(1,5), 2), random.randint(0, 5)])\n",
        "\n",
        "print(\"first dict:\", dict1)\n",
        "print(\"second dict:\", dict2, \"\\n\")\n",
        "\n",
        "intersection_values = set(dict1.values()) & set(dict2.values())\n",
        "dict3 = {key: value for key, value in dict1.items() if value in intersection_values}\n",
        "\n",
        "print(\"third dict:\", dict3)"
      ],
      "metadata": {
        "id": "ekN9ImbzfZ2Z",
        "colab": {
          "base_uri": "https://localhost:8080/"
        },
        "outputId": "89cc2896-c81b-4f25-96c2-e10cfae086f7"
      },
      "execution_count": 37,
      "outputs": [
        {
          "output_type": "stream",
          "name": "stdout",
          "text": [
            "first dict: {'bee': 2, 'dae': 0.56, 'ede': 1, 'aea': 5, 'cac': 0.55}\n",
            "second dict: {'edc': 1, 'dea': 5, 'adb': 0.88, 'cec': 4, 'ddc': 3.48} \n",
            "\n",
            "third dict: {'ede': 1, 'aea': 5}\n"
          ]
        }
      ]
    }
  ]
}
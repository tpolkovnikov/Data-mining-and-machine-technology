{
 "cells": [
  {
   "cell_type": "markdown",
   "metadata": {
    "id": "64JPlHixec69"
   },
   "source": [
    "# Практика 17.10.23\n",
    "\n",
    "1. Сгенерировать, используя модуль псевдослучайных чисел `random`, или ввести с клавиатуры список целых чисел. Вывести в консоль, затем перевернуть его и снова вывести в консоль.\n",
    "\n",
    "2. Сгенерировать, используя модуль псевдослучайных чисел `random`, или ввести с клавиатуры два списка целых чисел. Вывести их в консоль. Создать новый пустой список. Добавить в него все четные (по индексу) элементы первого списка и все нечетные (по индексу) элементы второго списка. Вывести третий список в консоль.\n",
    "\n",
    "3. Сгенерировать, используя модуль псевдослучайных чисел `random`, или ввести с клавиатуры список произвольных элементов (целые числа, числа с плавающей точкой, строки). Вывести в консоль. Убрать из него все дубликаты через приведение типов. Вывести в консоль.\n",
    "\n",
    "4. Сгенерировать, используя модуль псевдослучайных чисел `random`, или ввести с клавиатуры словарь, где ключом является строка, значением — целое число или число с плавающей точкой. Вывести в консоль. Для всех уникальных значений создать кортеж, где первым элементом будет значение, вторым — список связанных с ним ключей. Собрать эти кортежи в список, вывести его в консоль.\n",
    "\n",
    "5. Сгенерировать, используя модуль псевдослучайных чисел `random`, или ввести с клавиатуры два словаря, где ключом является строка, значением — целое число или число с плавающей точкой. Вывести в консоль. Найти пересечения множеств значений словарей. Создать новый словарь, содержащий только те пары ключ-значение, значения из которых входит в пересечение. Вывести в консоль.\n",
    "\n",
    "[Ссылка на документацию функции `random`](https://docs.python.org/3/library/random.html)\n",
    "\n",
    "[Built-in Types](https://docs.python.org/3/library/stdtypes.html?highlight=tuple#tuple)"
   ]
  },
  {
   "cell_type": "markdown",
   "metadata": {
    "id": "Y-jP_9axgxyX"
   },
   "source": [
    "Полковников Тихон"
   ]
  },
  {
   "cell_type": "markdown",
   "metadata": {
    "id": "HAVFiCLPo28O"
   },
   "source": [
    "##Задание 1"
   ]
  },
  {
   "cell_type": "code",
   "execution_count": 1,
   "metadata": {
    "colab": {
     "base_uri": "https://localhost:8080/"
    },
    "id": "68pFsIvRPdvk",
    "outputId": "e2843a41-a3ab-4222-a30e-802406f2cc75"
   },
   "outputs": [
    {
     "name": "stdout",
     "output_type": "stream",
     "text": [
      "[7, 3, 10, 0, 4, 9, 1, 0, 9, 0]\n",
      "[0, 9, 0, 1, 9, 4, 0, 10, 3, 7]\n"
     ]
    }
   ],
   "source": [
    "import random\n",
    "\n",
    "def generate_list(n):\n",
    "  return[random.randint(0, 10) for _ in range(10)]\n",
    "\n",
    "list1 = generate_list(10)\n",
    "print(list1)\n",
    "print(list(reversed(list1)))"
   ]
  },
  {
   "cell_type": "markdown",
   "metadata": {
    "id": "a1gbYjASfIqJ"
   },
   "source": [
    "## Задание 2"
   ]
  },
  {
   "cell_type": "code",
   "execution_count": 6,
   "metadata": {
    "colab": {
     "base_uri": "https://localhost:8080/"
    },
    "id": "3DFZiLwJfMfC",
    "outputId": "47f00e84-e40c-4759-a68c-7ec7ff401595"
   },
   "outputs": [
    {
     "name": "stdout",
     "output_type": "stream",
     "text": [
      "first list:  [1, 3, 8, 5, 7, 9, 2, 2, 2, 2]\n",
      "second list:  [8, 10, 3, 4, 7, 10, 2, 9, 2, 9]\n",
      "third list:  [1, 8, 7, 2, 2, 10, 4, 10, 9, 9]\n"
     ]
    }
   ],
   "source": [
    "list1 = generate_list(10)\n",
    "list2 = generate_list(10)\n",
    "list3 = []\n",
    "\n",
    "print(\"first list: \", list1)\n",
    "print(\"second list: \", list2)\n",
    "\n",
    "for i in range(0, len(list1), 2):\n",
    "  list3.append(list1[i])\n",
    "for i in range(1, len(list2), 2):\n",
    "  list3.append(list2[i])\n",
    "\n",
    "print(\"third list: \", list3)"
   ]
  },
  {
   "cell_type": "markdown",
   "metadata": {
    "id": "ZITkT8YUfM8t"
   },
   "source": [
    "## Задание 3"
   ]
  },
  {
   "cell_type": "code",
   "execution_count": 3,
   "metadata": {
    "colab": {
     "base_uri": "https://localhost:8080/"
    },
    "id": "FL_u4MSlfS1w",
    "outputId": "6f8c5cc9-331e-4423-e385-ef8601a58c83"
   },
   "outputs": [
    {
     "name": "stdout",
     "output_type": "stream",
     "text": [
      "[3, 0.5, 0.23, 2.48, 3, 'd', 0.67, 1.47, 'ebdc', 3]\n",
      "[0.5, 0.23, 2.48, 'd', 3, 0.67, 1.47, 'ebdc']\n"
     ]
    }
   ],
   "source": [
    "def random_word(word_size):\n",
    "  word = \"\"\n",
    "  for i in range(word_size):\n",
    "    word += chr(random.randint(97,101))\n",
    "  return word\n",
    "\n",
    "list1 = []\n",
    "for _ in range(10):\n",
    "    list1.append(random.choice([random.randint(1, 5), round(random.random() * random.randint(1,5), 2), random_word(random.randint(1,5))]))\n",
    "print(list1)\n",
    "unique_list = set(list1)\n",
    "print(list(unique_list))\n"
   ]
  },
  {
   "cell_type": "markdown",
   "metadata": {
    "id": "sqvNf2a6fTdY"
   },
   "source": [
    "## Задание 4"
   ]
  },
  {
   "cell_type": "code",
   "execution_count": 4,
   "metadata": {
    "colab": {
     "base_uri": "https://localhost:8080/"
    },
    "id": "3M4BCixjfXoq",
    "outputId": "d4331062-dac3-4803-d270-41d09e7019f2"
   },
   "outputs": [
    {
     "name": "stdout",
     "output_type": "stream",
     "text": [
      "{'cce': 5, 'acc': 0, 'dbb': 0, 'ace': 4, 'eac': 4}\n",
      "[(5, ['cce']), (0, ['acc', 'dbb']), (4, ['ace', 'eac'])]\n"
     ]
    }
   ],
   "source": [
    "import random\n",
    "\n",
    "dict1 = {}\n",
    "for i in range(5):\n",
    "  dict1[random_word(3)] = random.randint(0, 5)\n",
    "\n",
    "print(dict1)\n",
    "\n",
    "unique_values = {}\n",
    "for key, value in dict1.items():\n",
    "  if value not in unique_values:\n",
    "    unique_values[value] = [key]\n",
    "  else:\n",
    "    unique_values[value].append(key)\n",
    "\n",
    "result_list = [(value, keys) for value, keys in unique_values.items()]\n",
    "print(result_list)"
   ]
  },
  {
   "cell_type": "markdown",
   "metadata": {
    "id": "3V5mJOBQfYHe"
   },
   "source": [
    "## Задание 5"
   ]
  },
  {
   "cell_type": "code",
   "execution_count": 5,
   "metadata": {
    "colab": {
     "base_uri": "https://localhost:8080/"
    },
    "id": "ekN9ImbzfZ2Z",
    "outputId": "89cc2896-c81b-4f25-96c2-e10cfae086f7"
   },
   "outputs": [
    {
     "name": "stdout",
     "output_type": "stream",
     "text": [
      "first dict: {'aca': 3, 'adb': 0, 'aad': 0.31, 'cea': 2, 'ddd': 0.12}\n",
      "second dict: {'ccd': 0.33, 'ace': 4, 'cab': 1.07, 'abb': 4, 'adc': 2} \n",
      "\n",
      "third dict: {'cea': 2}\n"
     ]
    }
   ],
   "source": [
    "dict1 = {}\n",
    "for i in range(5):\n",
    "  dict1[random_word(3)] = random.choice([round(random.random() * random.randint(1,5), 2), random.randint(0, 5)])\n",
    "\n",
    "dict2 = {}\n",
    "for i in range(5):\n",
    "  dict2[random_word(3)] = random.choice([round(random.random() * random.randint(1,5), 2), random.randint(0, 5)])\n",
    "\n",
    "print(\"first dict:\", dict1)\n",
    "print(\"second dict:\", dict2, \"\\n\")\n",
    "\n",
    "intersection_values = set(dict1.values()) & set(dict2.values())\n",
    "dict3 = {key: value for key, value in dict1.items() if value in intersection_values}\n",
    "\n",
    "print(\"third dict:\", dict3)"
   ]
  }
 ],
 "metadata": {
  "colab": {
   "provenance": []
  },
  "kernelspec": {
   "display_name": "Python 3 (ipykernel)",
   "language": "python",
   "name": "python3"
  },
  "language_info": {
   "codemirror_mode": {
    "name": "ipython",
    "version": 3
   },
   "file_extension": ".py",
   "mimetype": "text/x-python",
   "name": "python",
   "nbconvert_exporter": "python",
   "pygments_lexer": "ipython3",
   "version": "3.12.1"
  }
 },
 "nbformat": 4,
 "nbformat_minor": 4
}
